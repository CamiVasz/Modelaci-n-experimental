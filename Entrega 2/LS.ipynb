{
 "cells": [
  {
   "cell_type": "markdown",
   "metadata": {},
   "source": [
    "# Estimación por mínimos cuadrados\n",
    "_Nicolás Villegas Vargas, María Camila Vásquez Correa_\n",
    "\n",
    "Modelación Experimental, 2019-1"
   ]
  },
  {
   "cell_type": "markdown",
   "metadata": {},
   "source": [
    "### ARMA: Datos artificiales"
   ]
  },
  {
   "cell_type": "code",
   "execution_count": 1,
   "metadata": {},
   "outputs": [],
   "source": [
    "import numpy as np\n",
    "import matplotlib.pyplot as plt\n",
    "import plotly.plotly as py\n",
    "import plotly.graph_objs as go\n",
    "import warnings\n",
    "warnings.simplefilter('ignore')\n",
    "%matplotlib inline"
   ]
  },
  {
   "cell_type": "markdown",
   "metadata": {},
   "source": [
    "Generamos datos con los siguientes parámetros"
   ]
  },
  {
   "cell_type": "code",
   "execution_count": 2,
   "metadata": {},
   "outputs": [],
   "source": [
    "A = np.matrix([[.75,-0.25],[1, 0]])\n",
    "D = np.matrix([[.4,.35],[0,0]])"
   ]
  },
  {
   "cell_type": "code",
   "execution_count": 3,
   "metadata": {},
   "outputs": [],
   "source": [
    "# Simulacion de datos\n",
    "p = 2\n",
    "q = 2\n",
    "nobs = 250\n",
    "X = np.zeros((250,p))\n",
    "# condicion inicial\n",
    "X[0] = np.array([-0.1,-5])\n",
    "# Ruido\n",
    "e = np.random.normal(size=nobs)"
   ]
  },
  {
   "cell_type": "code",
   "execution_count": 4,
   "metadata": {},
   "outputs": [],
   "source": [
    "for i in range(1, nobs):\n",
    "    X[i] = X[i-1]*A.transpose() + np.array([e[i-1],e[i]])*D.transpose()"
   ]
  },
  {
   "cell_type": "code",
   "execution_count": 5,
   "metadata": {},
   "outputs": [
    {
     "data": {
      "text/html": [
       "<iframe id=\"igraph\" scrolling=\"no\" style=\"border:none;\" seamless=\"seamless\" src=\"https://plot.ly/~CamiVasz/62.embed\" height=\"525px\" width=\"100%\"></iframe>"
      ],
      "text/plain": [
       "<chart_studio.tools.PlotlyDisplay object>"
      ]
     },
     "execution_count": 5,
     "metadata": {},
     "output_type": "execute_result"
    }
   ],
   "source": [
    "trace1 = go.Scatter(\n",
    "    y = X.T[0],\n",
    "    x = np.arange(nobs),\n",
    "    name = 'ARMA'\n",
    ")\n",
    "\n",
    "data = [trace1]\n",
    "py.iplot(data, filename='ARMA')"
   ]
  },
  {
   "cell_type": "code",
   "execution_count": 6,
   "metadata": {},
   "outputs": [],
   "source": [
    "X = np.matrix(X)"
   ]
  },
  {
   "cell_type": "markdown",
   "metadata": {},
   "source": [
    "### Ordinary Least Squares"
   ]
  },
  {
   "cell_type": "markdown",
   "metadata": {},
   "source": [
    "### Estimación de parámetros"
   ]
  },
  {
   "cell_type": "code",
   "execution_count": 7,
   "metadata": {},
   "outputs": [],
   "source": [
    "def ols(X, t):\n",
    "    V = X[0].transpose()*X[1]\n",
    "    G = X[0].transpose()*X[0]\n",
    "    for i in range(1,t):\n",
    "        V += X[i].transpose()*X[i+1]\n",
    "        G += X[i].transpose()*X[i]\n",
    "    return V.transpose()*np.linalg.inv(G)    "
   ]
  },
  {
   "cell_type": "code",
   "execution_count": 8,
   "metadata": {},
   "outputs": [],
   "source": [
    "c1 = []\n",
    "c2 = []\n",
    "for t in range(5, nobs-1):\n",
    "    c = ols(X, t)\n",
    "    c1.append(c.A1[0])\n",
    "    c2.append(c.A1[1])"
   ]
  },
  {
   "cell_type": "code",
   "execution_count": 9,
   "metadata": {},
   "outputs": [],
   "source": [
    "a1 = [A.A1[0] for _ in range(len(c1))]\n",
    "a2 = [A.A1[1] for _ in range(len(c2))]"
   ]
  },
  {
   "cell_type": "code",
   "execution_count": 10,
   "metadata": {},
   "outputs": [
    {
     "data": {
      "text/html": [
       "<iframe id=\"igraph\" scrolling=\"no\" style=\"border:none;\" seamless=\"seamless\" src=\"https://plot.ly/~CamiVasz/56.embed\" height=\"525px\" width=\"100%\"></iframe>"
      ],
      "text/plain": [
       "<chart_studio.tools.PlotlyDisplay object>"
      ]
     },
     "execution_count": 10,
     "metadata": {},
     "output_type": "execute_result"
    }
   ],
   "source": [
    "trace = go.Scatter(\n",
    "    y = a1,\n",
    "    x = np.arange(nobs),\n",
    "    name = 'Parametro a1')\n",
    "\n",
    "trace1 = go.Scatter(\n",
    "    y = c1,\n",
    "    x = np.arange(nobs),\n",
    "    name = 'Estimacion a1')\n",
    "\n",
    "trace2 = go.Scatter(\n",
    "    y = a2,\n",
    "    x = np.arange(nobs),\n",
    "    name = 'Parametro a2')\n",
    "\n",
    "trace3 = go.Scatter(\n",
    "    y = c2,\n",
    "    x = np.arange(nobs),\n",
    "    name = 'Estimacion a2')\n",
    "\n",
    "layout = go.Layout(\n",
    "    xaxis=dict(\n",
    "        showline=True,\n",
    "        showgrid=False,\n",
    "        showticklabels=True,\n",
    "        linecolor='rgb(204, 204, 204)',\n",
    "        linewidth=2,\n",
    "        ticks='outside',\n",
    "        tickcolor='rgb(204, 204, 204)',\n",
    "        tickwidth=2,\n",
    "        ticklen=5,\n",
    "        tickfont=dict(\n",
    "            family='Arial',\n",
    "            size=12,\n",
    "            color='rgb(82, 82, 82)',\n",
    "        ),\n",
    "    ),\n",
    "    yaxis=dict(\n",
    "        showgrid=False,\n",
    "        zeroline=False,\n",
    "        showline=False,\n",
    "        showticklabels=True,\n",
    "    ),\n",
    "    autosize=False,\n",
    "    margin=dict(\n",
    "        autoexpand=False,\n",
    "        l=100,\n",
    "        r=20,\n",
    "        t=110,\n",
    "    )\n",
    ")\n",
    "\n",
    "annotations = []\n",
    "annotations.append(dict(xref='paper', yref='paper', x=0.0, y=1.05,\n",
    "                              xanchor='left', yanchor='bottom',\n",
    "                              text='Estimación con mínimos cuadrados ordinarios',\n",
    "                              font=dict(family='Arial',\n",
    "                                        size=30,\n",
    "                                        color='rgb(37,37,37)'),\n",
    "                              showarrow=False))\n",
    "\n",
    "layout['annotations'] = annotations\n",
    "\n",
    "layout['annotations'] = annotations\n",
    "traces = [trace, trace1, trace2, trace3]\n",
    "\n",
    "fig = go.Figure(data=traces, layout=layout)\n",
    "py.iplot(fig, filename='2')\n"
   ]
  },
  {
   "cell_type": "markdown",
   "metadata": {},
   "source": [
    "## Instrumental Variables"
   ]
  },
  {
   "cell_type": "code",
   "execution_count": 11,
   "metadata": {},
   "outputs": [],
   "source": [
    "def IVols(X,t):\n",
    "    V = X[0].transpose()*X[2]\n",
    "    G = X[2].transpose()*X[1]\n",
    "    for i in range(1,t):\n",
    "        V += X[i].transpose()*X[i+2]\n",
    "        G += X[i+2].transpose()*X[i]\n",
    "    return V.transpose()*np.linalg.inv(G)    "
   ]
  },
  {
   "cell_type": "code",
   "execution_count": 12,
   "metadata": {},
   "outputs": [],
   "source": [
    "X = np.matrix(X)\n",
    "c1 = []\n",
    "c2 = []\n",
    "for t in range(50, nobs-1):\n",
    "    c = IVols(X, t)\n",
    "    c1.append(c.A1[0])\n",
    "    c2.append(c.A1[1])"
   ]
  },
  {
   "cell_type": "code",
   "execution_count": 13,
   "metadata": {},
   "outputs": [
    {
     "data": {
      "text/html": [
       "<iframe id=\"igraph\" scrolling=\"no\" style=\"border:none;\" seamless=\"seamless\" src=\"https://plot.ly/~CamiVasz/66.embed\" height=\"525px\" width=\"100%\"></iframe>"
      ],
      "text/plain": [
       "<chart_studio.tools.PlotlyDisplay object>"
      ]
     },
     "execution_count": 13,
     "metadata": {},
     "output_type": "execute_result"
    }
   ],
   "source": [
    "trace = go.Scatter(\n",
    "    y = a1,\n",
    "    x = np.arange(nobs),\n",
    "    name = 'Parametro a1')\n",
    "\n",
    "trace1 = go.Scatter(\n",
    "    y = c1,\n",
    "    x = np.arange(nobs),\n",
    "    name = 'Estimacion a1')\n",
    "\n",
    "trace2 = go.Scatter(\n",
    "    y = a2,\n",
    "    x = np.arange(nobs),\n",
    "    name = 'Parametro a2')\n",
    "\n",
    "trace3 = go.Scatter(\n",
    "    y = c2,\n",
    "    x = np.arange(nobs),\n",
    "    name = 'Estimacion a2')\n",
    "\n",
    "layout = go.Layout(\n",
    "    xaxis=dict(\n",
    "        showline=True,\n",
    "        showgrid=False,\n",
    "        showticklabels=True,\n",
    "        linecolor='rgb(204, 204, 204)',\n",
    "        linewidth=2,\n",
    "        ticks='outside',\n",
    "        tickcolor='rgb(204, 204, 204)',\n",
    "        tickwidth=2,\n",
    "        ticklen=5,\n",
    "        tickfont=dict(\n",
    "            family='Arial',\n",
    "            size=12,\n",
    "            color='rgb(82, 82, 82)',\n",
    "        ),\n",
    "    ),\n",
    "    yaxis=dict(\n",
    "        showgrid=False,\n",
    "        zeroline=False,\n",
    "        showline=False,\n",
    "        showticklabels=True,\n",
    "    ),\n",
    "    autosize=False,\n",
    "    margin=dict(\n",
    "        autoexpand=False,\n",
    "        l=100,\n",
    "        r=20,\n",
    "        t=110,\n",
    "    )\n",
    ")\n",
    "\n",
    "annotations = []\n",
    "annotations.append(dict(xref='paper', yref='paper', x=0.0, y=1.05,\n",
    "                              xanchor='left', yanchor='bottom',\n",
    "                              text='Estimación con variables instrumentales',\n",
    "                              font=dict(family='Arial',\n",
    "                                        size=30,\n",
    "                                        color='rgb(37,37,37)'),\n",
    "                              showarrow=False))\n",
    "\n",
    "layout['annotations'] = annotations\n",
    "\n",
    "layout['annotations'] = annotations\n",
    "traces = [trace, trace1, trace2, trace3]\n",
    "\n",
    "fig = go.Figure(data=traces, layout=layout)\n",
    "py.iplot(fig, filename='3')\n"
   ]
  },
  {
   "cell_type": "markdown",
   "metadata": {},
   "source": [
    "### Recursive Least Squares"
   ]
  },
  {
   "cell_type": "code",
   "execution_count": 14,
   "metadata": {},
   "outputs": [],
   "source": [
    "def RLS(X, ti, tf):\n",
    "    V = X[ti].T*X[ti+1]\n",
    "    G = X[ti].T*X[ti]\n",
    "    R = np.linalg.inv(G)\n",
    "    C = V.T*R\n",
    "    for i in range(ti+1, tf):\n",
    "        R -= (R*X[i].T*X[i]*R)/(1+X[i]*R*X[i].T)\n",
    "        C += (X[i+1].T - C*X[i].T)*X[i]*R\n",
    "    return C"
   ]
  },
  {
   "cell_type": "code",
   "execution_count": 15,
   "metadata": {},
   "outputs": [],
   "source": [
    "c1 = []\n",
    "c2 = []\n",
    "for t in range(50, nobs):\n",
    "    c = RLS(X, 3, t)\n",
    "    c1.append(c.A1[0])\n",
    "    c2.append(c.A1[1])"
   ]
  },
  {
   "cell_type": "code",
   "execution_count": 16,
   "metadata": {},
   "outputs": [
    {
     "data": {
      "text/html": [
       "<iframe id=\"igraph\" scrolling=\"no\" style=\"border:none;\" seamless=\"seamless\" src=\"https://plot.ly/~CamiVasz/60.embed\" height=\"525px\" width=\"100%\"></iframe>"
      ],
      "text/plain": [
       "<chart_studio.tools.PlotlyDisplay object>"
      ]
     },
     "execution_count": 16,
     "metadata": {},
     "output_type": "execute_result"
    }
   ],
   "source": [
    "trace = go.Scatter(\n",
    "    y = a1,\n",
    "    x = np.arange(nobs),\n",
    "    name = 'Parametro a1')\n",
    "\n",
    "trace1 = go.Scatter(\n",
    "    y = c1,\n",
    "    x = np.arange(nobs),\n",
    "    name = 'Estimacion a1')\n",
    "\n",
    "trace2 = go.Scatter(\n",
    "    y = a2,\n",
    "    x = np.arange(nobs),\n",
    "    name = 'Parametro a2')\n",
    "\n",
    "trace3 = go.Scatter(\n",
    "    y = c2,\n",
    "    x = np.arange(nobs),\n",
    "    name = 'Estimacion a2')\n",
    "\n",
    "layout = go.Layout(\n",
    "    xaxis=dict(\n",
    "        showline=True,\n",
    "        showgrid=False,\n",
    "        showticklabels=True,\n",
    "        linecolor='rgb(204, 204, 204)',\n",
    "        linewidth=2,\n",
    "        ticks='outside',\n",
    "        tickcolor='rgb(204, 204, 204)',\n",
    "        tickwidth=2,\n",
    "        ticklen=5,\n",
    "        tickfont=dict(\n",
    "            family='Arial',\n",
    "            size=12,\n",
    "            color='rgb(82, 82, 82)',\n",
    "        ),\n",
    "    ),\n",
    "    yaxis=dict(\n",
    "        showgrid=False,\n",
    "        zeroline=False,\n",
    "        showline=False,\n",
    "        showticklabels=True,\n",
    "    ),\n",
    "    autosize=False,\n",
    "    margin=dict(\n",
    "        autoexpand=False,\n",
    "        l=100,\n",
    "        r=20,\n",
    "        t=110,\n",
    "    )\n",
    ")\n",
    "\n",
    "annotations = []\n",
    "annotations.append(dict(xref='paper', yref='paper', x=0.0, y=1.05,\n",
    "                              xanchor='left', yanchor='bottom',\n",
    "                              text='Estimación con mínimos cuadrados recursivos',\n",
    "                              font=dict(family='Arial',\n",
    "                                        size=18,\n",
    "                                        color='rgb(37,37,37)'),\n",
    "                              showarrow=False))\n",
    "\n",
    "layout['annotations'] = annotations\n",
    "\n",
    "layout['annotations'] = annotations\n",
    "traces = [trace, trace1, trace2, trace3]\n",
    "\n",
    "fig = go.Figure(data=traces, layout=layout)\n",
    "py.iplot(fig,filename='RLS')\n"
   ]
  },
  {
   "cell_type": "markdown",
   "metadata": {},
   "source": [
    "## ARMAX "
   ]
  },
  {
   "cell_type": "code",
   "execution_count": 17,
   "metadata": {},
   "outputs": [],
   "source": [
    "a = 2\n",
    "b = 3\n",
    "def u(t):\n",
    "    return a + b*np.sin(2*np.pi*t)\n",
    "u1 = [u(t) for t in np.linspace(0,1,nobs)]\n",
    "B = np.matrix([[1,0]])"
   ]
  },
  {
   "cell_type": "code",
   "execution_count": 18,
   "metadata": {},
   "outputs": [],
   "source": [
    "X = np.zeros((p,nobs)).T\n",
    "for i in range(1, nobs):\n",
    "    X[i] = X[i-1]*A.T + B*u1[i].T +  np.array([e[i-1],e[i]])*D.transpose()"
   ]
  },
  {
   "cell_type": "code",
   "execution_count": 19,
   "metadata": {},
   "outputs": [],
   "source": [
    "C = np.c_[A,B.T]\n",
    "Bt = np.c_[X, np.array(u1).T]"
   ]
  },
  {
   "cell_type": "code",
   "execution_count": 20,
   "metadata": {},
   "outputs": [],
   "source": [
    "Bt = np.matrix(Bt)"
   ]
  },
  {
   "cell_type": "code",
   "execution_count": 21,
   "metadata": {},
   "outputs": [],
   "source": [
    "def olsX(Bt, X, t):\n",
    "    V = Bt[0].T*X[1]\n",
    "    G = Bt[0].T*Bt[0]\n",
    "    for i in range(1,t):\n",
    "        V += Bt[i].T*X[i+1]\n",
    "        G += Bt[i].T*Bt[i]\n",
    "    return V.T*np.linalg.inv(G)  "
   ]
  },
  {
   "cell_type": "code",
   "execution_count": 22,
   "metadata": {},
   "outputs": [],
   "source": [
    "c1 = []\n",
    "c2 = []\n",
    "c3 = []\n",
    "for t in range(4, nobs):\n",
    "    c = olsX(Bt, X, t)\n",
    "    c1.append(c.A1[0])\n",
    "    c2.append(c.A1[1])\n",
    "    c3.append(c.A1[2])"
   ]
  },
  {
   "cell_type": "code",
   "execution_count": 23,
   "metadata": {},
   "outputs": [
    {
     "data": {
      "text/html": [
       "<iframe id=\"igraph\" scrolling=\"no\" style=\"border:none;\" seamless=\"seamless\" src=\"https://plot.ly/~CamiVasz/58.embed\" height=\"525px\" width=\"100%\"></iframe>"
      ],
      "text/plain": [
       "<chart_studio.tools.PlotlyDisplay object>"
      ]
     },
     "execution_count": 23,
     "metadata": {},
     "output_type": "execute_result"
    }
   ],
   "source": [
    "trace1 = go.Scatter(\n",
    "    y = X.T[0],\n",
    "    x = np.arange(nobs),\n",
    "    name = 'ARMAX'\n",
    ")\n",
    "\n",
    "\n",
    "trace3 = go.Scatter(\n",
    "    y = u1,\n",
    "    x = np.arange(nobs),\n",
    "    name = 'Entrada'\n",
    ")\n",
    "\n",
    "data = [trace1, trace3]\n",
    "py.iplot(data, filename='ARMAX')"
   ]
  },
  {
   "cell_type": "code",
   "execution_count": 24,
   "metadata": {},
   "outputs": [
    {
     "data": {
      "text/html": [
       "<iframe id=\"igraph\" scrolling=\"no\" style=\"border:none;\" seamless=\"seamless\" src=\"https://plot.ly/~CamiVasz/68.embed\" height=\"525px\" width=\"100%\"></iframe>"
      ],
      "text/plain": [
       "<chart_studio.tools.PlotlyDisplay object>"
      ]
     },
     "execution_count": 24,
     "metadata": {},
     "output_type": "execute_result"
    }
   ],
   "source": [
    "trace = go.Scatter(\n",
    "    y = a1,\n",
    "    x = np.arange(nobs),\n",
    "    name = 'Parametro a1')\n",
    "\n",
    "trace1 = go.Scatter(\n",
    "    y = c3,\n",
    "    x = np.arange(nobs),\n",
    "    name = 'Estimacion a1')\n",
    "\n",
    "trace2 = go.Scatter(\n",
    "    y = a2,\n",
    "    x = np.arange(nobs),\n",
    "    name = 'Parametro a2')\n",
    "\n",
    "trace3 = go.Scatter(\n",
    "    y = c2,\n",
    "    x = np.arange(nobs),\n",
    "    name = 'Estimacion a2')\n",
    "\n",
    "trace4 = go.Scatter(\n",
    "    y = c1,\n",
    "    x = np.arange(nobs),\n",
    "    name = 'Estimación b')\n",
    "\n",
    "trace5 = go.Scatter(\n",
    "    y = [1 for _ in range(nobs)],\n",
    "    x = np.arange(nobs),\n",
    "    name = 'Parámetro b')\n",
    "\n",
    "\n",
    "layout = go.Layout(\n",
    "    xaxis=dict(\n",
    "        showline=True,\n",
    "        showgrid=False,\n",
    "        showticklabels=True,\n",
    "        linecolor='rgb(204, 204, 204)',\n",
    "        linewidth=2,\n",
    "        ticks='outside',\n",
    "        tickcolor='rgb(204, 204, 204)',\n",
    "        tickwidth=2,\n",
    "        ticklen=5,\n",
    "        tickfont=dict(\n",
    "            family='Arial',\n",
    "            size=12,\n",
    "            color='rgb(82, 82, 82)',\n",
    "        ),\n",
    "    ),\n",
    "    yaxis=dict(\n",
    "        showgrid=False,\n",
    "        zeroline=False,\n",
    "        showline=False,\n",
    "        showticklabels=True,\n",
    "    ),\n",
    "    autosize=False,\n",
    "    margin=dict(\n",
    "        autoexpand=False,\n",
    "        l=100,\n",
    "        r=20,\n",
    "        t=110,\n",
    "    )\n",
    ")\n",
    "\n",
    "annotations = []\n",
    "annotations.append(dict(xref='paper', yref='paper', x=0.0, y=1.05,\n",
    "                              xanchor='left', yanchor='bottom',\n",
    "                              text='Estimación con mínimos cuadrados ordinarios ARMAX',\n",
    "                              font=dict(family='Arial',\n",
    "                                        size=18,\n",
    "                                        color='rgb(37,37,37)'),\n",
    "                              showarrow=False))\n",
    "\n",
    "layout['annotations'] = annotations\n",
    "\n",
    "layout['annotations'] = annotations\n",
    "traces = [trace, trace1, trace2, trace3, trace4, trace5]\n",
    "\n",
    "fig = go.Figure(data=traces, layout=layout)\n",
    "py.iplot(fig,filename='ARMAXx')\n"
   ]
  },
  {
   "cell_type": "markdown",
   "metadata": {},
   "source": [
    "### ARMAX Con variables instrumentales"
   ]
  },
  {
   "cell_type": "code",
   "execution_count": 34,
   "metadata": {},
   "outputs": [],
   "source": [
    "def olsXIV(Bt, X, t):\n",
    "    V = Bt[0].T*X[2]\n",
    "    G = Bt[1].T*Bt[0]\n",
    "    for i in range(1,t):\n",
    "        V += Bt[i].T*X[i+2]\n",
    "        G += Bt[i+1].T*Bt[i]        \n",
    "    return V.T*np.linalg.inv(G)  "
   ]
  },
  {
   "cell_type": "code",
   "execution_count": 37,
   "metadata": {},
   "outputs": [],
   "source": [
    "c1 = []\n",
    "c2 = []\n",
    "c3 = []\n",
    "for t in range(50, nobs-1):\n",
    "    c = olsXIV(Bt, X, t)\n",
    "    c1.append(c.A1[0])\n",
    "    c2.append(c.A1[1])\n",
    "    c3.append(c.A1[2])"
   ]
  },
  {
   "cell_type": "code",
   "execution_count": 38,
   "metadata": {},
   "outputs": [
    {
     "data": {
      "text/html": [
       "<iframe id=\"igraph\" scrolling=\"no\" style=\"border:none;\" seamless=\"seamless\" src=\"https://plot.ly/~CamiVasz/64.embed\" height=\"525px\" width=\"100%\"></iframe>"
      ],
      "text/plain": [
       "<chart_studio.tools.PlotlyDisplay object>"
      ]
     },
     "execution_count": 38,
     "metadata": {},
     "output_type": "execute_result"
    }
   ],
   "source": [
    "trace = go.Scatter(\n",
    "    y = a1,\n",
    "    x = np.arange(nobs),\n",
    "    name = 'Parametro a1')\n",
    "\n",
    "trace1 = go.Scatter(\n",
    "    y = c3,\n",
    "    x = np.arange(nobs),\n",
    "    name = 'Estimacion a1')\n",
    "\n",
    "trace2 = go.Scatter(\n",
    "    y = a2,\n",
    "    x = np.arange(nobs),\n",
    "    name = 'Parametro a2')\n",
    "\n",
    "trace3 = go.Scatter(\n",
    "    y = c2,\n",
    "    x = np.arange(nobs),\n",
    "    name = 'Estimacion a2')\n",
    "\n",
    "trace4 = go.Scatter(\n",
    "    y = c1,\n",
    "    x = np.arange(nobs),\n",
    "    name = 'Estimación b')\n",
    "\n",
    "trace5 = go.Scatter(\n",
    "    y = [1 for _ in range(nobs)],\n",
    "    x = np.arange(nobs),\n",
    "    name = 'Parámetro b')\n",
    "\n",
    "\n",
    "layout = go.Layout(\n",
    "    xaxis=dict(\n",
    "        showline=True,\n",
    "        showgrid=False,\n",
    "        showticklabels=True,\n",
    "        linecolor='rgb(204, 204, 204)',\n",
    "        linewidth=2,\n",
    "        ticks='outside',\n",
    "        tickcolor='rgb(204, 204, 204)',\n",
    "        tickwidth=2,\n",
    "        ticklen=5,\n",
    "        tickfont=dict(\n",
    "            family='Arial',\n",
    "            size=12,\n",
    "            color='rgb(82, 82, 82)',\n",
    "        ),\n",
    "    ),\n",
    "    yaxis=dict(\n",
    "        showgrid=False,\n",
    "        zeroline=False,\n",
    "        showline=False,\n",
    "\n",
    "        showticklabels=True,\n",
    "    ),\n",
    "    autosize=False,\n",
    "    margin=dict(\n",
    "        autoexpand=False,\n",
    "        l=100,\n",
    "        r=20,\n",
    "        t=110,\n",
    "    )\n",
    ")\n",
    "\n",
    "annotations = []\n",
    "annotations.append(dict(xref='paper', yref='paper', x=0.0, y=1.05,\n",
    "                              xanchor='left', yanchor='bottom',\n",
    "                              text='Estimación con mínimos cuadrados ordinarios y variables instrumentales ARMAX',\n",
    "                              font=dict(family='Arial',\n",
    "                                        size=18,\n",
    "                                        color='rgb(37,37,37)'),\n",
    "                              showarrow=False))\n",
    "\n",
    "layout['annotations'] = annotations\n",
    "\n",
    "layout['annotations'] = annotations\n",
    "traces = [trace, trace1, trace2, trace3, trace4, trace5]\n",
    "\n",
    "fig = go.Figure(data=traces, layout=layout)\n",
    "py.iplot(fig,filename='ARMAX2')"
   ]
  },
  {
   "cell_type": "code",
   "execution_count": null,
   "metadata": {},
   "outputs": [],
   "source": []
  }
 ],
 "metadata": {
  "kernelspec": {
   "display_name": "Python 3",
   "language": "python",
   "name": "python3"
  },
  "language_info": {
   "codemirror_mode": {
    "name": "ipython",
    "version": 3
   },
   "file_extension": ".py",
   "mimetype": "text/x-python",
   "name": "python",
   "nbconvert_exporter": "python",
   "pygments_lexer": "ipython3",
   "version": "3.7.3"
  }
 },
 "nbformat": 4,
 "nbformat_minor": 2
}
