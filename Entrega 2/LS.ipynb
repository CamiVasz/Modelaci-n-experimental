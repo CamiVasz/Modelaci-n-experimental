{
 "cells": [
  {
   "cell_type": "markdown",
   "metadata": {},
   "source": [
    "# Estimación por mínimos cuadrados\n",
    "_Nicolás Villegas Vargas, María Camila Vásquez Correa_\n",
    "\n",
    "Modelación Experimental, 2019-1"
   ]
  },
  {
   "cell_type": "markdown",
   "metadata": {},
   "source": [
    "### ARMA: Datos artificiales"
   ]
  },
  {
   "cell_type": "code",
   "execution_count": 2,
   "metadata": {},
   "outputs": [
    {
     "data": {
      "text/html": [
       "        <script type=\"text/javascript\">\n",
       "        window.PlotlyConfig = {MathJaxConfig: 'local'};\n",
       "        if (window.MathJax) {MathJax.Hub.Config({SVG: {font: \"STIX-Web\"}});}\n",
       "        if (typeof require !== 'undefined') {\n",
       "        require.undef(\"plotly\");\n",
       "        requirejs.config({\n",
       "            paths: {\n",
       "                'plotly': ['https://cdn.plot.ly/plotly-latest.min']\n",
       "            }\n",
       "        });\n",
       "        require(['plotly'], function(Plotly) {\n",
       "            window._Plotly = Plotly;\n",
       "        });\n",
       "        }\n",
       "        </script>\n",
       "        "
      ]
     },
     "metadata": {},
     "output_type": "display_data"
    }
   ],
   "source": [
    "import numpy as np\n",
    "import matplotlib.pyplot as plt\n",
    "import plotly.plotly as py\n",
    "import plotly.graph_objs as go\n",
    "import warnings\n",
    "warnings.simplefilter('ignore')\n",
    "%matplotlib inline\n",
    "from plotly.offline import init_notebook_mode\n",
    "init_notebook_mode(connected=True)"
   ]
  },
  {
   "cell_type": "markdown",
   "metadata": {},
   "source": [
    "Generamos datos con los siguientes parámetros"
   ]
  },
  {
   "cell_type": "code",
   "execution_count": 3,
   "metadata": {},
   "outputs": [],
   "source": [
    "A = np.matrix([[.75,-0.25],[1, 0]])\n",
    "D = np.matrix([[.65,.35],[0,0]])"
   ]
  },
  {
   "cell_type": "code",
   "execution_count": 47,
   "metadata": {},
   "outputs": [],
   "source": [
    "# Simulacion de datos\n",
    "p = 2\n",
    "q = 2\n",
    "nobs = 250\n",
    "X = np.zeros((250,p))\n",
    "# condicion inicial\n",
    "X[0] = np.array([-0.5,-1.4])\n",
    "# Ruido\n",
    "e = np.random.normal(size=nobs)"
   ]
  },
  {
   "cell_type": "code",
   "execution_count": 48,
   "metadata": {},
   "outputs": [],
   "source": [
    "for i in range(1, nobs):\n",
    "    X[i] = X[i-1]*A.transpose() + np.array([e[i-1],e[i]])*D.transpose()"
   ]
  },
  {
   "cell_type": "code",
   "execution_count": 6,
   "metadata": {},
   "outputs": [
    {
     "data": {
      "text/html": [
       "<iframe id=\"igraph\" scrolling=\"no\" style=\"border:none;\" seamless=\"seamless\" src=\"https://plot.ly/~CamiVasz/42.embed\" height=\"525px\" width=\"100%\"></iframe>"
      ],
      "text/plain": [
       "<chart_studio.tools.PlotlyDisplay object>"
      ]
     },
     "execution_count": 6,
     "metadata": {},
     "output_type": "execute_result"
    }
   ],
   "source": [
    "trace1 = go.Scatter(\n",
    "    y = X.T[0],\n",
    "    x = np.arange(nobs)\n",
    ")\n",
    "\n",
    "trace2 = go.Scatter(\n",
    "    y = X.T[1],\n",
    "    x = np.arange(nobs)\n",
    ")\n",
    "\n",
    "data = [trace2, trace1]\n",
    "py.iplot(data)"
   ]
  },
  {
   "cell_type": "code",
   "execution_count": 49,
   "metadata": {},
   "outputs": [],
   "source": [
    "X = np.matrix(X)"
   ]
  },
  {
   "cell_type": "markdown",
   "metadata": {},
   "source": [
    "### Ordinary Least Squares"
   ]
  },
  {
   "cell_type": "markdown",
   "metadata": {},
   "source": [
    "### Estimación de parámetros"
   ]
  },
  {
   "cell_type": "code",
   "execution_count": 8,
   "metadata": {},
   "outputs": [],
   "source": [
    "def ols(X, t):\n",
    "    V = X[0].transpose()*X[1]\n",
    "    G = X[0].transpose()*X[0]\n",
    "    for i in range(1,t):\n",
    "        V += X[i].transpose()*X[i+1]\n",
    "        G += X[i].transpose()*X[i]\n",
    "    return V.transpose()*np.linalg.inv(G)    "
   ]
  },
  {
   "cell_type": "code",
   "execution_count": 9,
   "metadata": {},
   "outputs": [],
   "source": [
    "c1 = []\n",
    "c2 = []\n",
    "for t in range(5, nobs-1):\n",
    "    c = ols(X, t)\n",
    "    c1.append(c.A1[0])\n",
    "    c2.append(c.A1[1])"
   ]
  },
  {
   "cell_type": "code",
   "execution_count": 10,
   "metadata": {},
   "outputs": [],
   "source": [
    "a1 = [A.A1[0] for _ in range(len(c1))]\n",
    "a2 = [A.A1[1] for _ in range(len(c2))]"
   ]
  },
  {
   "cell_type": "code",
   "execution_count": 11,
   "metadata": {},
   "outputs": [
    {
     "data": {
      "text/html": [
       "<iframe id=\"igraph\" scrolling=\"no\" style=\"border:none;\" seamless=\"seamless\" src=\"https://plot.ly/~CamiVasz/44.embed\" height=\"525px\" width=\"100%\"></iframe>"
      ],
      "text/plain": [
       "<chart_studio.tools.PlotlyDisplay object>"
      ]
     },
     "execution_count": 11,
     "metadata": {},
     "output_type": "execute_result"
    }
   ],
   "source": [
    "trace = go.Scatter(\n",
    "    y = a1,\n",
    "    x = np.arange(nobs),\n",
    "    name = 'Parametro a1')\n",
    "\n",
    "trace1 = go.Scatter(\n",
    "    y = c1,\n",
    "    x = np.arange(nobs),\n",
    "    name = 'Estimacion a1')\n",
    "\n",
    "trace2 = go.Scatter(\n",
    "    y = a2,\n",
    "    x = np.arange(nobs),\n",
    "    name = 'Parametro a2')\n",
    "\n",
    "trace3 = go.Scatter(\n",
    "    y = c2,\n",
    "    x = np.arange(nobs),\n",
    "    name = 'Estimacion a2')\n",
    "\n",
    "layout = go.Layout(\n",
    "    xaxis=dict(\n",
    "        showline=True,\n",
    "        showgrid=False,\n",
    "        showticklabels=True,\n",
    "        linecolor='rgb(204, 204, 204)',\n",
    "        linewidth=2,\n",
    "        ticks='outside',\n",
    "        tickcolor='rgb(204, 204, 204)',\n",
    "        tickwidth=2,\n",
    "        ticklen=5,\n",
    "        tickfont=dict(\n",
    "            family='Arial',\n",
    "            size=12,\n",
    "            color='rgb(82, 82, 82)',\n",
    "        ),\n",
    "    ),\n",
    "    yaxis=dict(\n",
    "        showgrid=False,\n",
    "        zeroline=False,\n",
    "        showline=False,\n",
    "        showticklabels=False,\n",
    "    ),\n",
    "    autosize=False,\n",
    "    margin=dict(\n",
    "        autoexpand=False,\n",
    "        l=100,\n",
    "        r=20,\n",
    "        t=110,\n",
    "    )\n",
    ")\n",
    "\n",
    "annotations = []\n",
    "annotations.append(dict(xref='paper', yref='paper', x=0.0, y=1.05,\n",
    "                              xanchor='left', yanchor='bottom',\n",
    "                              text='Estimación con mínimos cuadrados ordinarios',\n",
    "                              font=dict(family='Arial',\n",
    "                                        size=30,\n",
    "                                        color='rgb(37,37,37)'),\n",
    "                              showarrow=False))\n",
    "\n",
    "layout['annotations'] = annotations\n",
    "\n",
    "layout['annotations'] = annotations\n",
    "traces = [trace, trace1, trace2, trace3]\n",
    "\n",
    "fig = go.Figure(data=traces, layout=layout)\n",
    "py.iplot(fig)\n"
   ]
  },
  {
   "cell_type": "markdown",
   "metadata": {},
   "source": [
    "## Instrumental Variables"
   ]
  },
  {
   "cell_type": "code",
   "execution_count": 12,
   "metadata": {},
   "outputs": [],
   "source": [
    "def IVols(X,t):\n",
    "    V = X[0].transpose()*X[2]\n",
    "    G = X[2].transpose()*X[1]\n",
    "    for i in range(1,t):\n",
    "        V += X[i].transpose()*X[i+2]\n",
    "        G += X[i+2].transpose()*X[i]\n",
    "    return V.transpose()*np.linalg.inv(G)    "
   ]
  },
  {
   "cell_type": "code",
   "execution_count": 13,
   "metadata": {},
   "outputs": [],
   "source": [
    "X = np.matrix(X)\n",
    "c1 = []\n",
    "c2 = []\n",
    "for t in range(5, nobs-1):\n",
    "    c = IVols(X, t)\n",
    "    c1.append(c.A1[0])\n",
    "    c2.append(c.A1[1])"
   ]
  },
  {
   "cell_type": "code",
   "execution_count": 14,
   "metadata": {},
   "outputs": [
    {
     "data": {
      "text/html": [
       "<iframe id=\"igraph\" scrolling=\"no\" style=\"border:none;\" seamless=\"seamless\" src=\"https://plot.ly/~CamiVasz/46.embed\" height=\"525px\" width=\"100%\"></iframe>"
      ],
      "text/plain": [
       "<chart_studio.tools.PlotlyDisplay object>"
      ]
     },
     "execution_count": 14,
     "metadata": {},
     "output_type": "execute_result"
    }
   ],
   "source": [
    "trace = go.Scatter(\n",
    "    y = a1,\n",
    "    x = np.arange(nobs),\n",
    "    name = 'Parametro a1')\n",
    "\n",
    "trace1 = go.Scatter(\n",
    "    y = c1,\n",
    "    x = np.arange(nobs),\n",
    "    name = 'Estimacion a1')\n",
    "\n",
    "trace2 = go.Scatter(\n",
    "    y = a2,\n",
    "    x = np.arange(nobs),\n",
    "    name = 'Parametro a2')\n",
    "\n",
    "trace3 = go.Scatter(\n",
    "    y = c2,\n",
    "    x = np.arange(nobs),\n",
    "    name = 'Estimacion a2')\n",
    "\n",
    "layout = go.Layout(\n",
    "    xaxis=dict(\n",
    "        showline=True,\n",
    "        showgrid=False,\n",
    "        showticklabels=True,\n",
    "        linecolor='rgb(204, 204, 204)',\n",
    "        linewidth=2,\n",
    "        ticks='outside',\n",
    "        tickcolor='rgb(204, 204, 204)',\n",
    "        tickwidth=2,\n",
    "        ticklen=5,\n",
    "        tickfont=dict(\n",
    "            family='Arial',\n",
    "            size=12,\n",
    "            color='rgb(82, 82, 82)',\n",
    "        ),\n",
    "    ),\n",
    "    yaxis=dict(\n",
    "        showgrid=False,\n",
    "        zeroline=False,\n",
    "        showline=False,\n",
    "        showticklabels=False,\n",
    "    ),\n",
    "    autosize=False,\n",
    "    margin=dict(\n",
    "        autoexpand=False,\n",
    "        l=100,\n",
    "        r=20,\n",
    "        t=110,\n",
    "    )\n",
    ")\n",
    "\n",
    "annotations = []\n",
    "annotations.append(dict(xref='paper', yref='paper', x=0.0, y=1.05,\n",
    "                              xanchor='left', yanchor='bottom',\n",
    "                              text='Estimación con variables instrumentales',\n",
    "                              font=dict(family='Arial',\n",
    "                                        size=30,\n",
    "                                        color='rgb(37,37,37)'),\n",
    "                              showarrow=False))\n",
    "\n",
    "layout['annotations'] = annotations\n",
    "\n",
    "layout['annotations'] = annotations\n",
    "traces = [trace, trace1, trace2, trace3]\n",
    "\n",
    "fig = go.Figure(data=traces, layout=layout)\n",
    "py.iplot(fplt.plot(y)ig)\n"
   ]
  },
  {
   "cell_type": "markdown",
   "metadata": {},
   "source": [
    "### Recursive Least Squares"
   ]
  },
  {
   "cell_type": "code",
   "execution_count": 19,
   "metadata": {},
   "outputs": [],
   "source": [
    "def RLS(X, t):\n",
    "    V = X[0].transpose()*X[1]\n",
    "    G = X[0].transpose()*X[0]\n",
    "    R = np.linalg.inv(G)\n",
    "    C = V0.T*R0\n",
    "    for i in range(1, t):\n",
    "        R -= (R*X[i].T*X[i]*R)/(1+X[i]*R*X[i].T)\n",
    "        C += (X[i+1].T - C*X[i].T)*X[i]*R\n",
    "    return C"
   ]
  },
  {
   "cell_type": "code",
   "execution_count": 20,
   "metadata": {},
   "outputs": [],
   "source": [
    "c1 = []\n",
    "c2 = []\n",
    "for t in range(50, nobs):\n",
    "    c = RLS(X, t)\n",
    "    c1.append(c.A1[0])\n",
    "    c2.append(c.A1[1])"
   ]
  },
  {
   "cell_type": "code",
   "execution_count": 21,
   "metadata": {},
   "outputs": [
    {
     "data": {
      "text/html": [
       "<iframe id=\"igraph\" scrolling=\"no\" style=\"border:none;\" seamless=\"seamless\" src=\"https://plot.ly/~CamiVasz/48.embed\" height=\"525px\" width=\"100%\"></iframe>"
      ],
      "text/plain": [
       "<chart_studio.tools.PlotlyDisplay object>"
      ]
     },
     "execution_count": 21,
     "metadata": {},
     "output_type": "execute_result"
    }
   ],
   "source": [
    "trace = go.Scatter(\n",
    "    y = a1,\n",
    "    x = np.arange(nobs),\n",
    "    name = 'Parametro a1')\n",
    "\n",
    "trace1 = go.Scatter(\n",
    "    y = c1,\n",
    "    x = np.arange(nobs),\n",
    "    name = 'Estimacion a1')\n",
    "\n",
    "trace2 = go.Scatter(\n",
    "    y = a2,\n",
    "    x = np.arange(nobs),\n",
    "    name = 'Parametro a2')\n",
    "\n",
    "trace3 = go.Scatter(\n",
    "    y = c2,\n",
    "    x = np.arange(nobs),\n",
    "    name = 'Estimacion a2')\n",
    "\n",
    "layout = go.Layout(\n",
    "    xaxis=dict(\n",
    "        showline=True,\n",
    "        showgrid=False,\n",
    "        showticklabels=True,\n",
    "        linecolor='rgb(204, 204, 204)',\n",
    "        linewidth=2,\n",
    "        ticks='outside',\n",
    "        tickcolor='rgb(204, 204, 204)',\n",
    "        tickwidth=2,\n",
    "        ticklen=5,\n",
    "        tickfont=dict(\n",
    "            family='Arial',\n",
    "            size=12,\n",
    "            color='rgb(82, 82, 82)',\n",
    "        ),\n",
    "    ),\n",
    "    yaxis=dict(\n",
    "        showgrid=False,\n",
    "        zeroline=False,\n",
    "        showline=False,\n",
    "        showticklabels=False,\n",
    "    ),\n",
    "    autosize=False,\n",
    "    margin=dict(\n",
    "        autoexpand=False,\n",
    "        l=100,\n",
    "        r=20,\n",
    "        t=110,\n",
    "    )\n",
    ")\n",
    "\n",
    "annotations = []\n",
    "annotations.append(dict(xref='paper', yref='paper', x=0.0, y=1.05,\n",
    "                              xanchor='left', yanchor='bottom',\n",
    "                              text='Estimación con mínimos cuadrados recursivos',\n",
    "                              font=dict(family='Arial',\n",
    "                                        size=30,\n",
    "                                        color='rgb(37,37,37)'),\n",
    "                              showarrow=False))\n",
    "\n",
    "layout['annotations'] = annotations\n",
    "\n",
    "layout['annotations'] = annotations\n",
    "traces = [trace, trace1, trace2, trace3]\n",
    "\n",
    "fig = go.Figure(data=traces, layout=layout)\n",
    "py.iplot(fig)\n"
   ]
  },
  {
   "cell_type": "code",
   "execution_count": 23,
   "metadata": {},
   "outputs": [],
   "source": [
    "from __future__ import print_function\n",
    "import numpy as np\n",
    "from scipy import stats\n",
    "import statsmodels.api as sm\n",
    "import matplotlib.pyplot as plt\n",
    "from statsmodels.sandbox.regression.predstd import wls_prediction_std\n",
    "from statsmodels.iolib.table import (SimpleTable, default_txt_fmt)\n",
    "import pandas as pd"
   ]
  },
  {
   "cell_type": "code",
   "execution_count": 61,
   "metadata": {},
   "outputs": [],
   "source": [
    "y = list(X.T[1])[:-1]\n",
    "x1 = X.T[0][:-1]\n",
    "x2 = X.T[0][1:]"
   ]
  },
  {
   "cell_type": "code",
   "execution_count": 24,
   "metadata": {},
   "outputs": [],
   "source": [
    "nsample = 50\n",
    "x = np.linspace(0, 20, nsample)\n",
    "X = np.column_stack((x, (x - 5)**2))\n",
    "X = sm.add_constant(X)\n",
    "beta = [5., 0.5, -0.01]\n",
    "sig = 0.5\n",
    "w = np.ones(nsample)\n",
    "w[nsample * 6//10:] = 3\n",
    "y_true = np.dot(X, beta)\n",
    "e = np.random.normal(size=nsample)\n",
    "y = y_true + sig * w * e \n",
    "X = X[:,[0,1]]"
   ]
  },
  {
   "cell_type": "code",
   "execution_count": 51,
   "metadata": {},
   "outputs": [],
   "source": [
    "X1 = np.column_stack((x1,x2))"
   ]
  },
  {
   "cell_type": "code",
   "execution_count": 72,
   "metadata": {},
   "outputs": [
    {
     "data": {
      "text/plain": [
       "[matrix([[-5.00000000e-01,  1.91660688e-01,  9.26244898e-01,\n",
       "           4.04091761e-01, -6.88882021e-01,  4.02503994e-02,\n",
       "           1.68458433e+00,  1.57300164e+00,  1.59795410e+00,\n",
       "           8.46764818e-01,  9.80364027e-02,  5.42836776e-01,\n",
       "           3.61487030e-01,  7.25629727e-04, -1.61975413e-02,\n",
       "           8.15505487e-01, -1.23541580e-01, -6.67349397e-01,\n",
       "          -4.22510187e-01,  9.33912282e-01,  7.50267626e-01,\n",
       "           4.80725126e-02,  4.87647746e-01,  6.78450159e-01,\n",
       "          -6.50311244e-01, -8.50402320e-01, -3.60136789e-01,\n",
       "           7.52850679e-01,  1.57080614e+00, -1.86059784e-01,\n",
       "          -7.64733031e-01, -9.33968860e-03,  4.18026915e-01,\n",
       "          -5.94174431e-01, -1.82874022e+00, -7.85063156e-01,\n",
       "           2.66800346e-01,  1.14062566e+00,  2.37278613e-01,\n",
       "           4.87010569e-01,  5.22541164e-01,  8.12678461e-01,\n",
       "           7.84936296e-01, -7.24258287e-01, -1.59543162e+00,\n",
       "          -1.20551374e+00, -1.33891482e+00, -1.05933100e+00,\n",
       "           2.29645517e-01,  9.29402058e-01,  1.83314922e+00,\n",
       "           1.58430200e+00, -4.63015250e-02, -6.07863451e-01,\n",
       "          -1.00707827e+00, -6.13004107e-01, -1.12125945e-01,\n",
       "           5.62362974e-01,  2.58807903e-02,  4.26298505e-01,\n",
       "           1.68979397e+00,  1.36551174e+00,  1.13564788e+00,\n",
       "           1.53803126e+00,  9.53700444e-01,  7.13468627e-01,\n",
       "           1.30168917e-01, -7.60212393e-01, -1.71519606e+00,\n",
       "          -6.47764972e-01,  1.89889066e+00,  2.08265768e+00,\n",
       "           1.59549343e+00,  6.51890159e-01, -1.17738741e+00,\n",
       "          -1.81698802e+00, -1.01173094e+00, -8.05327565e-01,\n",
       "          -5.31919167e-01,  1.98995887e-01, -3.54604016e-01,\n",
       "           4.11696509e-01,  8.46240329e-01,  3.15845008e-01,\n",
       "           9.40592831e-01,  3.36698954e-01, -6.84837894e-01,\n",
       "          -1.55341614e+00, -1.02305420e+00,  3.56406596e-02,\n",
       "           1.20750359e+00,  3.87295073e+00,  3.68074570e+00,\n",
       "           7.89966298e-01, -1.92653142e+00, -1.64016322e+00,\n",
       "           7.79868673e-02,  2.08498142e-01,  1.51585842e-01,\n",
       "           5.04996469e-01,  8.00844549e-01,  5.94022585e-01,\n",
       "           4.69689051e-02,  3.45297518e-01,  9.77523206e-01,\n",
       "           1.60072854e-01,  1.56725161e-01,  1.34003487e+00,\n",
       "           6.31360135e-01,  2.34533539e-01,  2.81578555e-01,\n",
       "          -2.78920744e-02, -1.33279814e+00, -1.00655518e+00,\n",
       "           6.34226258e-01,  1.46775509e+00,  2.36919016e+00,\n",
       "           1.42934818e+00,  1.07952373e+00, -2.81759608e-01,\n",
       "          -1.57523394e+00, -6.73652462e-01, -1.20735953e-01,\n",
       "          -1.16355037e-01,  3.76571258e-02,  5.94522476e-01,\n",
       "           6.84012427e-01, -4.53976251e-01, -1.41222070e+00,\n",
       "          -2.42164248e+00, -3.50237844e+00, -3.21980250e+00,\n",
       "          -1.66278153e+00,  4.84318544e-03,  1.62183613e+00,\n",
       "           1.54958346e+00,  1.85766844e-01, -1.74444718e+00,\n",
       "          -1.02189148e+00,  9.24885472e-01,  1.31549423e+00,\n",
       "          -7.90682889e-03, -1.87287180e+00, -1.55684636e+00,\n",
       "          -4.18259011e-01,  2.20895376e-01, -7.41819544e-01,\n",
       "          -1.51304823e+00, -1.17633956e+00, -7.59467685e-01,\n",
       "           2.57467046e-01,  6.45858837e-02,  7.83610670e-01,\n",
       "           2.22576044e+00,  1.97007189e+00,  1.08337723e-01,\n",
       "          -3.29161237e-01,  7.62264930e-01,  9.47476889e-01,\n",
       "           1.08735341e+00,  3.84599757e-01,  9.94707892e-01,\n",
       "           1.68707594e+00,  1.46485200e+00, -3.21545812e-01,\n",
       "          -1.49810886e+00, -9.39123652e-01,  5.86490370e-01,\n",
       "           9.27539598e-01,  6.36059483e-01, -5.48786357e-01,\n",
       "          -9.21257570e-01,  1.67372161e-01,  6.10525589e-01,\n",
       "           9.00352573e-01,  1.08910746e+00,  1.48853703e+00,\n",
       "           9.55899797e-02, -1.05890069e+00, -1.59603897e-01,\n",
       "           8.39638192e-01,  9.47107621e-01, -5.51387844e-01,\n",
       "          -1.57711042e+00, -1.60300251e+00, -1.78824272e+00,\n",
       "          -1.77646193e+00, -4.39381321e-01, -8.37975272e-01,\n",
       "          -1.27886552e+00, -7.69490383e-01, -7.97329168e-01,\n",
       "          -1.77141061e+00, -1.04644914e+00,  3.14616616e-01,\n",
       "           9.47805626e-01,  2.51410018e-01,  1.62347617e-01,\n",
       "           1.07920691e+00,  1.69889475e+00,  5.49825666e-01,\n",
       "          -3.36968963e-01, -6.49947836e-01, -2.57821171e-01,\n",
       "          -1.36781298e+00, -2.54912253e+00, -1.50061857e+00,\n",
       "          -1.37891134e+00, -8.18795882e-01,  3.01868416e-01,\n",
       "          -6.05892916e-01, -1.59501886e+00, -1.36672048e+00,\n",
       "          -4.78913477e-01, -2.03708499e-01, -6.83343034e-01,\n",
       "          -7.13866048e-01, -1.29536837e-01,  1.20171258e+00,\n",
       "           1.26462093e+00,  1.29827558e+00,  2.07704888e+00,\n",
       "           1.49839799e+00, -5.27845174e-01, -2.35687562e+00,\n",
       "          -3.06439437e+00, -1.82294272e+00, -1.33555721e+00,\n",
       "          -8.42338385e-01, -4.19876212e-01, -1.47550191e-01,\n",
       "          -9.40414077e-01, -1.58506240e+00, -1.43070188e+00,\n",
       "           1.14175128e+00,  1.92261485e+00,  1.44343531e+00,\n",
       "           8.66922622e-01,  1.25005249e+00,  1.54059260e+00,\n",
       "           8.56623357e-01,  3.18130615e-01,  7.85328897e-01,\n",
       "           1.78601362e-01, -1.15591975e+00, -8.84645880e-01,\n",
       "           1.25434568e+00,  1.53021188e+00,  9.50896692e-01,\n",
       "          -9.50909596e-01]]),\n",
       " matrix([[-1.40000000e+00, -5.00000000e-01,  1.91660688e-01,\n",
       "           9.26244898e-01,  4.04091761e-01, -6.88882021e-01,\n",
       "           4.02503994e-02,  1.68458433e+00,  1.57300164e+00,\n",
       "           1.59795410e+00,  8.46764818e-01,  9.80364027e-02,\n",
       "           5.42836776e-01,  3.61487030e-01,  7.25629727e-04,\n",
       "          -1.61975413e-02,  8.15505487e-01, -1.23541580e-01,\n",
       "          -6.67349397e-01, -4.22510187e-01,  9.33912282e-01,\n",
       "           7.50267626e-01,  4.80725126e-02,  4.87647746e-01,\n",
       "           6.78450159e-01, -6.50311244e-01, -8.50402320e-01,\n",
       "          -3.60136789e-01,  7.52850679e-01,  1.57080614e+00,\n",
       "          -1.86059784e-01, -7.64733031e-01, -9.33968860e-03,\n",
       "           4.18026915e-01, -5.94174431e-01, -1.82874022e+00,\n",
       "          -7.85063156e-01,  2.66800346e-01,  1.14062566e+00,\n",
       "           2.37278613e-01,  4.87010569e-01,  5.22541164e-01,\n",
       "           8.12678461e-01,  7.84936296e-01, -7.24258287e-01,\n",
       "          -1.59543162e+00, -1.20551374e+00, -1.33891482e+00,\n",
       "          -1.05933100e+00,  2.29645517e-01,  9.29402058e-01,\n",
       "           1.83314922e+00,  1.58430200e+00, -4.63015250e-02,\n",
       "          -6.07863451e-01, -1.00707827e+00, -6.13004107e-01,\n",
       "          -1.12125945e-01,  5.62362974e-01,  2.58807903e-02,\n",
       "           4.26298505e-01,  1.68979397e+00,  1.36551174e+00,\n",
       "           1.13564788e+00,  1.53803126e+00,  9.53700444e-01,\n",
       "           7.13468627e-01,  1.30168917e-01, -7.60212393e-01,\n",
       "          -1.71519606e+00, -6.47764972e-01,  1.89889066e+00,\n",
       "           2.08265768e+00,  1.59549343e+00,  6.51890159e-01,\n",
       "          -1.17738741e+00, -1.81698802e+00, -1.01173094e+00,\n",
       "          -8.05327565e-01, -5.31919167e-01,  1.98995887e-01,\n",
       "          -3.54604016e-01,  4.11696509e-01,  8.46240329e-01,\n",
       "           3.15845008e-01,  9.40592831e-01,  3.36698954e-01,\n",
       "          -6.84837894e-01, -1.55341614e+00, -1.02305420e+00,\n",
       "           3.56406596e-02,  1.20750359e+00,  3.87295073e+00,\n",
       "           3.68074570e+00,  7.89966298e-01, -1.92653142e+00,\n",
       "          -1.64016322e+00,  7.79868673e-02,  2.08498142e-01,\n",
       "           1.51585842e-01,  5.04996469e-01,  8.00844549e-01,\n",
       "           5.94022585e-01,  4.69689051e-02,  3.45297518e-01,\n",
       "           9.77523206e-01,  1.60072854e-01,  1.56725161e-01,\n",
       "           1.34003487e+00,  6.31360135e-01,  2.34533539e-01,\n",
       "           2.81578555e-01, -2.78920744e-02, -1.33279814e+00,\n",
       "          -1.00655518e+00,  6.34226258e-01,  1.46775509e+00,\n",
       "           2.36919016e+00,  1.42934818e+00,  1.07952373e+00,\n",
       "          -2.81759608e-01, -1.57523394e+00, -6.73652462e-01,\n",
       "          -1.20735953e-01, -1.16355037e-01,  3.76571258e-02,\n",
       "           5.94522476e-01,  6.84012427e-01, -4.53976251e-01,\n",
       "          -1.41222070e+00, -2.42164248e+00, -3.50237844e+00,\n",
       "          -3.21980250e+00, -1.66278153e+00,  4.84318544e-03,\n",
       "           1.62183613e+00,  1.54958346e+00,  1.85766844e-01,\n",
       "          -1.74444718e+00, -1.02189148e+00,  9.24885472e-01,\n",
       "           1.31549423e+00, -7.90682889e-03, -1.87287180e+00,\n",
       "          -1.55684636e+00, -4.18259011e-01,  2.20895376e-01,\n",
       "          -7.41819544e-01, -1.51304823e+00, -1.17633956e+00,\n",
       "          -7.59467685e-01,  2.57467046e-01,  6.45858837e-02,\n",
       "           7.83610670e-01,  2.22576044e+00,  1.97007189e+00,\n",
       "           1.08337723e-01, -3.29161237e-01,  7.62264930e-01,\n",
       "           9.47476889e-01,  1.08735341e+00,  3.84599757e-01,\n",
       "           9.94707892e-01,  1.68707594e+00,  1.46485200e+00,\n",
       "          -3.21545812e-01, -1.49810886e+00, -9.39123652e-01,\n",
       "           5.86490370e-01,  9.27539598e-01,  6.36059483e-01,\n",
       "          -5.48786357e-01, -9.21257570e-01,  1.67372161e-01,\n",
       "           6.10525589e-01,  9.00352573e-01,  1.08910746e+00,\n",
       "           1.48853703e+00,  9.55899797e-02, -1.05890069e+00,\n",
       "          -1.59603897e-01,  8.39638192e-01,  9.47107621e-01,\n",
       "          -5.51387844e-01, -1.57711042e+00, -1.60300251e+00,\n",
       "          -1.78824272e+00, -1.77646193e+00, -4.39381321e-01,\n",
       "          -8.37975272e-01, -1.27886552e+00, -7.69490383e-01,\n",
       "          -7.97329168e-01, -1.77141061e+00, -1.04644914e+00,\n",
       "           3.14616616e-01,  9.47805626e-01,  2.51410018e-01,\n",
       "           1.62347617e-01,  1.07920691e+00,  1.69889475e+00,\n",
       "           5.49825666e-01, -3.36968963e-01, -6.49947836e-01,\n",
       "          -2.57821171e-01, -1.36781298e+00, -2.54912253e+00,\n",
       "          -1.50061857e+00, -1.37891134e+00, -8.18795882e-01,\n",
       "           3.01868416e-01, -6.05892916e-01, -1.59501886e+00,\n",
       "          -1.36672048e+00, -4.78913477e-01, -2.03708499e-01,\n",
       "          -6.83343034e-01, -7.13866048e-01, -1.29536837e-01,\n",
       "           1.20171258e+00,  1.26462093e+00,  1.29827558e+00,\n",
       "           2.07704888e+00,  1.49839799e+00, -5.27845174e-01,\n",
       "          -2.35687562e+00, -3.06439437e+00, -1.82294272e+00,\n",
       "          -1.33555721e+00, -8.42338385e-01, -4.19876212e-01,\n",
       "          -1.47550191e-01, -9.40414077e-01, -1.58506240e+00,\n",
       "          -1.43070188e+00,  1.14175128e+00,  1.92261485e+00,\n",
       "           1.44343531e+00,  8.66922622e-01,  1.25005249e+00,\n",
       "           1.54059260e+00,  8.56623357e-01,  3.18130615e-01,\n",
       "           7.85328897e-01,  1.78601362e-01, -1.15591975e+00,\n",
       "          -8.84645880e-01,  1.25434568e+00,  1.53021188e+00,\n",
       "           9.50896692e-01]])]"
      ]
     },
     "execution_count": 72,
     "metadata": {},
     "output_type": "execute_result"
    }
   ],
   "source": [
    "list(X.T)"
   ]
  },
  {
   "cell_type": "code",
   "execution_count": null,
   "metadata": {},
   "outputs": [],
   "source": []
  }
 ],
 "metadata": {
  "kernelspec": {
   "display_name": "Python 3",
   "language": "python",
   "name": "python3"
  },
  "language_info": {
   "codemirror_mode": {
    "name": "ipython",
    "version": 3
   },
   "file_extension": ".py",
   "mimetype": "text/x-python",
   "name": "python",
   "nbconvert_exporter": "python",
   "pygments_lexer": "ipython3",
   "version": "3.7.3"
  }
 },
 "nbformat": 4,
 "nbformat_minor": 2
}
